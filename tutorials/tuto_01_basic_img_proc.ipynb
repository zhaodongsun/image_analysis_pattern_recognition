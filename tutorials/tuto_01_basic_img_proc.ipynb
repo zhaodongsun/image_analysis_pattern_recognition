{
 "cells": [
  {
   "cell_type": "markdown",
   "metadata": {},
   "source": [
    "# Basic image processing tutorial\n",
    "\n",
    "This notebook provides a basic introduction to image processing tutorial with python and [scikit-image](http://scikit-image.org/). We will first briefly introduce Jupyter notebooks and then perform some basic image processing tasks.\n",
    "\n",
    "## Jupyter notebook\n",
    "\n",
    "For those who are not familiar with Jupyter notebooks, here is a quick introduction: <br>\n",
    "Notebooks are documents containing both executable python code and rich text elements (paragraph, equations, figures, links, etc…) commenting and explaining the code. They can be used to edit and run code in a browser while having the results attached and commented in Markdown, allowing you to generate a nicely formatted lab report very easily. <br>\n",
    "They are composed of cells which type can be set to be either code or Markdown (`Cell/Cell type`). To execute the code in a cell, either go to `Cell/Run Cells` or hit `ctrl-enter`.\n",
    "In Markdown, you can format text to have headings, bold, italic, mathematics symbols, latex equations, lists, tables, links and more...\n",
    "\n",
    "Take a look at the following resources:\n",
    "* Jupyter Notebook [documentation](https://jupyter-notebook.readthedocs.io/en/stable/notebook.html) and [examples](https://jupyter-notebook.readthedocs.io/en/stable/examples/Notebook/examples_index.html)\n",
    "* [Markdown cheat sheet](https://medium.com/ibm-data-science-experience/markdown-for-jupyter-notebooks-cheatsheet-386c05aeebed)\n",
    "\n",
    "## Introduction to image processing using scikit-image\n",
    "\n",
    "Scikit-image is a useful package containing a collection of algorithms for image processing. You will be using it quite often throughout the labs.\n",
    "\n",
    "### 1. Load an image\n",
    "\n",
    "You can load an image from a file using the [io](http://scikit-image.org/docs/dev/api/skimage.io.html) module"
   ]
  },
  {
   "cell_type": "code",
   "execution_count": null,
   "metadata": {},
   "outputs": [],
   "source": [
    "import os\n",
    "import skimage.io\n",
    "\n",
    "lena = skimage.io.imread(os.path.join(os.pardir, 'data', 'lena.png'))"
   ]
  },
  {
   "cell_type": "markdown",
   "metadata": {},
   "source": [
    "Or use image already provided in the [data](http://scikit-image.org/docs/dev/api/skimage.data.html) module"
   ]
  },
  {
   "cell_type": "code",
   "execution_count": null,
   "metadata": {},
   "outputs": [],
   "source": [
    "import skimage.data\n",
    "\n",
    "camera = skimage.data.camera()"
   ]
  },
  {
   "cell_type": "markdown",
   "metadata": {},
   "source": [
    "### 2. Display images\n",
    "\n",
    "You can display images with the [matplotlib](https://matplotlib.org/index.html) package. <br>"
   ]
  },
  {
   "cell_type": "code",
   "execution_count": null,
   "metadata": {},
   "outputs": [],
   "source": [
    "import matplotlib.pyplot as plt\n",
    "%matplotlib inline\n",
    "# The previous line makes plots static for better integration in notebooks\n",
    "# You can enable interactive plots inside the notebooks (zoom, ...) by \n",
    "# replacing this line with %matplotlib notebook\n",
    "\n",
    "fig, ax = plt.subplots(1, 2, figsize=(12, 7))\n",
    "\n",
    "ax[0].imshow(lena)\n",
    "ax[0].set_title('lena')\n",
    "ax[0].axis('off')\n",
    "\n",
    "ax[1].imshow(camera, cmap='gray')\n",
    "ax[1].set_title('camera')\n",
    "ax[1].axis('off')\n",
    "\n",
    "plt.suptitle('Display images')\n",
    "plt.show()"
   ]
  },
  {
   "cell_type": "markdown",
   "metadata": {},
   "source": [
    "### 3. Modify pixel values\n",
    "\n",
    "Let's look at how the images are represented"
   ]
  },
  {
   "cell_type": "code",
   "execution_count": null,
   "metadata": {},
   "outputs": [],
   "source": [
    "print('lena is of type {}, has dimensions {}, and a total number of {} elements'.format(\n",
    "    type(lena), lena.shape, lena.size))\n",
    "\n",
    "print('camera is of type {}, has dimensions {}, and a total number of {} elements'.format(\n",
    "    type(camera), camera.shape, camera.size))"
   ]
  },
  {
   "cell_type": "markdown",
   "metadata": {},
   "source": [
    "You can see that lena is an RGB image with 3 channels, while camera is a grayscale image with only one.\n",
    "Both image are stored as Numpy arrays, so accessing and modifying a pixel value is done the same way as Numpy arrays, taking into account the number of channels:\n",
    "\n",
    "You can convert RGB images to grayscale using the [color](http://scikit-image.org/docs/dev/api/skimage.color.html) package"
   ]
  },
  {
   "cell_type": "code",
   "execution_count": null,
   "metadata": {},
   "outputs": [],
   "source": [
    "import skimage.color\n",
    "\n",
    "lena_gray = skimage.color.rgb2gray(lena)\n",
    "\n",
    "fig, ax = plt.subplots(1, 2, figsize=(12, 7))\n",
    "\n",
    "ax[0].imshow(lena)\n",
    "ax[0].set_title('lena')\n",
    "ax[0].axis('off')\n",
    "\n",
    "ax[1].imshow(lena_gray, cmap='gray')\n",
    "ax[1].set_title('lena gray')\n",
    "ax[1].axis('off')\n",
    "\n",
    "plt.suptitle('RGB to gray')\n",
    "plt.show()"
   ]
  },
  {
   "cell_type": "code",
   "execution_count": null,
   "metadata": {},
   "outputs": [],
   "source": [
    "# access grayscale value\n",
    "x, y = 10, 10\n",
    "print('Grayscale value at location {}x{} is {}'.format(x, y, camera[x, y]))\n",
    "# modify grayscale value\n",
    "camera[10,10] = 100\n",
    "print('The new grayscale value at location {}x{} is {}'.format(x, y, camera[x, y]))\n",
    "\n",
    "# access RED value (channel 0)\n",
    "channel = 0\n",
    "print('Red value at location {}x{} is {}'.format(x, y, lena[x, y, channel]))\n",
    "# modify RED value\n",
    "lena[x, y, channel] = 100\n",
    "print('The new Red value at location {}x{} is {}'.format(x, y, lena[x, y, channel]))"
   ]
  },
  {
   "cell_type": "markdown",
   "metadata": {},
   "source": [
    "You can use numpy indexing to perform different kinds of operations on images"
   ]
  },
  {
   "cell_type": "code",
   "execution_count": null,
   "metadata": {},
   "outputs": [],
   "source": [
    "# Slicing\n",
    "# Set some rows to white and columns to black\n",
    "camera[50:60] = 255\n",
    "camera[:, 400:410] = 0\n",
    "\n",
    "# Extract a patch from the image\n",
    "camera_face = camera[80:160, 190:270]\n",
    "\n",
    "fig, ax = plt.subplots(1, 2, figsize=(12, 7))\n",
    "ax[0].imshow(camera, cmap='gray')\n",
    "ax[1].imshow(camera_face, cmap='gray')\n",
    "plt.show()"
   ]
  },
  {
   "cell_type": "code",
   "execution_count": null,
   "metadata": {},
   "outputs": [],
   "source": [
    "import numpy as np\n",
    "\n",
    "# Masking (boolean)\n",
    "mask_black = lena[:,:,0] > 200 # mask computed on red channel\n",
    "mask_white = np.logical_not(mask_black)\n",
    "\n",
    "lena_mask_w = np.copy(lena)\n",
    "lena_mask_b = np.copy(lena)\n",
    "\n",
    "lena_mask_w[mask_white, 0] = 255 # the mask can be applied on a specific channel ...\n",
    "lena_mask_b[mask_black] = 0 # ... or on all channels at once\n",
    "\n",
    "fig, ax = plt.subplots(1, 2, figsize=(12, 7))\n",
    "ax[0].imshow(lena_mask_w)\n",
    "ax[1].imshow(lena_mask_b)\n",
    "plt.show()"
   ]
  },
  {
   "cell_type": "markdown",
   "metadata": {},
   "source": [
    "### 4. Save images"
   ]
  },
  {
   "cell_type": "code",
   "execution_count": null,
   "metadata": {},
   "outputs": [],
   "source": [
    "cat = skimage.data.chelsea()\n",
    "\n",
    "# Save image\n",
    "skimage.io.imsave('cat.png', cat)"
   ]
  },
  {
   "cell_type": "markdown",
   "metadata": {},
   "source": [
    "### 5. Scikit-image functions\n",
    "Skimage contains a lot of useful functions for image processing, here are a few of them"
   ]
  },
  {
   "cell_type": "code",
   "execution_count": null,
   "metadata": {},
   "outputs": [],
   "source": [
    "import skimage.util\n",
    "import skimage.transform\n",
    "\n",
    "img = skimage.data.camera()\n",
    "\n",
    "# Cropping\n",
    "img_crop = skimage.util.crop(img, ((100, 100), (100, 100)))\n",
    "\n",
    "# Padding\n",
    "img_pad = skimage.util.pad(img, ((100, 100), (100, 100)), 'reflect')\n",
    "\n",
    "# Inverting\n",
    "img_invert = skimage.util.invert(img)\n",
    "\n",
    "# Rotating\n",
    "img_rot = skimage.transform.rotate(img, 30)\n",
    "\n",
    "# Resizing\n",
    "img_resize = skimage.transform.resize(img, (128, 256), mode='reflect')\n",
    "\n",
    "# Rescaling\n",
    "img_rescale = skimage.transform.rescale(img, 2, mode='reflect')\n",
    "\n",
    "# Plot\n",
    "fig, ax = plt.subplots(2, 3, figsize=(12, 7))\n",
    "\n",
    "ax[0,0].imshow(img_crop)\n",
    "ax[0,0].set_title('crop')\n",
    "\n",
    "ax[0,1].imshow(img_pad)\n",
    "ax[0,1].set_title('pad')\n",
    "\n",
    "ax[0,2].imshow(img_invert)\n",
    "ax[0,2].set_title('invert')\n",
    "\n",
    "ax[1,0].imshow(img_rot)\n",
    "ax[1,0].set_title('rotate')\n",
    "\n",
    "ax[1,1].imshow(img_resize)\n",
    "ax[1,1].set_title('resize')\n",
    "\n",
    "ax[1,2].imshow(img_rescale)\n",
    "ax[1,2].set_title('rescale')\n",
    "\n",
    "plt.show()"
   ]
  },
  {
   "cell_type": "markdown",
   "metadata": {},
   "source": [
    "### 6. Filtering\n",
    "A lot of filters are available in the [filters](http://scikit-image.org/docs/dev/api/skimage.filters.html) module"
   ]
  },
  {
   "cell_type": "code",
   "execution_count": null,
   "metadata": {
    "scrolled": true
   },
   "outputs": [],
   "source": [
    "import skimage.filters\n",
    "\n",
    "camera = skimage.data.camera()\n",
    "camera_blur = skimage.filters.gaussian(camera, sigma=3)\n",
    "\n",
    "plt.figure(figsize=(12, 7))\n",
    "plt.imshow(camera_blur, cmap='gray')\n",
    "plt.title('Blurred image')\n",
    "plt.show()"
   ]
  },
  {
   "cell_type": "markdown",
   "metadata": {},
   "source": [
    "### 7. Histogram\n",
    "Histograms give you an overall idea of the intensity distribution of an image. It is a plot with pixel values in X-axis and corresponding number of pixels in the image on Y-axis. By looking at the histogram of an image, you get intuition about contrast, brightness, intensity distribution etc of that image."
   ]
  },
  {
   "cell_type": "code",
   "execution_count": null,
   "metadata": {},
   "outputs": [],
   "source": [
    "camera = skimage.data.camera()\n",
    "nb_bins = 256\n",
    "\n",
    "# Display histogram\n",
    "plt.figure(figsize=(12, 7))\n",
    "plt.hist(camera.ravel(), bins=nb_bins)\n",
    "plt.xlabel('Pixel intensity')\n",
    "plt.ylabel('Number of pixels')\n",
    "plt.title('256 bins histogram')\n",
    "\n",
    "plt.show()"
   ]
  },
  {
   "cell_type": "markdown",
   "metadata": {},
   "source": [
    "### 8. FFT\n",
    "To compute the Fast Fourier Transform of an image, simply use the [fft](https://docs.scipy.org/doc/numpy-1.13.0/reference/routines.fft.html) module from numpy"
   ]
  },
  {
   "cell_type": "code",
   "execution_count": null,
   "metadata": {},
   "outputs": [],
   "source": [
    "camera = skimage.data.camera()\n",
    "camera_fft = np.fft.fft2(camera)\n",
    "\n",
    "plt.figure(figsize=(12, 7))\n",
    "plt.imshow(np.log(np.abs(np.fft.fftshift(camera_fft))), cmap='gray')\n",
    "plt.title('FFT')\n",
    "plt.show()\n"
   ]
  },
  {
   "cell_type": "markdown",
   "metadata": {},
   "source": [
    "## Useful resources\n",
    "This notebook was only a basic introduction on manipulating images with scikit-image and numpy. To go deeper, you should check the following links:\n",
    "- scikit-image [user guide](http://scikit-image.org/docs/stable/user_guide.html) and [examples](http://scikit-image.org/docs/stable/auto_examples/index.html) _(useful for the labs)_\n",
    "- documentations of [scikit-image](http://scikit-image.org/docs/stable/) and [numpy](https://docs.scipy.org/doc/numpy-1.13.0/reference/)\n",
    "\n",
    "For people who are not familiar with python/numpy/matplotlib:\n",
    "- [python tutorial](https://docs.python.org/3/tutorial/)\n",
    "- [numpy tutorial](https://docs.scipy.org/doc/numpy-dev/user/quickstart.html)\n",
    "- [numpy for matlab users](https://docs.scipy.org/doc/numpy-dev/user/numpy-for-matlab-users.html)\n",
    "- [matplotlib tutorial](https://matplotlib.org/tutorials/index.html)\n"
   ]
  }
 ],
 "metadata": {
  "kernelspec": {
   "display_name": "Python 3",
   "language": "python",
   "name": "python3"
  },
  "language_info": {
   "codemirror_mode": {
    "name": "ipython",
    "version": 3
   },
   "file_extension": ".py",
   "mimetype": "text/x-python",
   "name": "python",
   "nbconvert_exporter": "python",
   "pygments_lexer": "ipython3",
   "version": "3.6.8"
  }
 },
 "nbformat": 4,
 "nbformat_minor": 2
}
